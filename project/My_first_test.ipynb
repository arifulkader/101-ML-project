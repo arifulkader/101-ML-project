{
 "cells": [
  {
   "cell_type": "code",
   "execution_count": 1,
   "id": "4878a4ce",
   "metadata": {},
   "outputs": [],
   "source": [
    "import random\n",
    "import pandas as pd\n",
    "import random"
   ]
  },
  {
   "cell_type": "code",
   "execution_count": 2,
   "id": "04370f1c",
   "metadata": {},
   "outputs": [],
   "source": [
    "df = pd.DataFrame(columns=['f1', 'f2', 'f3','t'])"
   ]
  },
  {
   "cell_type": "code",
   "execution_count": 3,
   "id": "0bb092bb",
   "metadata": {},
   "outputs": [],
   "source": [
    "target = [10,11]"
   ]
  },
  {
   "cell_type": "code",
   "execution_count": 27,
   "id": "05cd53f2",
   "metadata": {},
   "outputs": [],
   "source": [
    "for i in range(1,500):\n",
    "    f1= random.randint(1,999)\n",
    "    f2 = random.randint(1000,9999)\n",
    "    random_target = random.choice(target)\n",
    "    f3 = (f1+f2)+random_target\n",
    "    new_entry = {\"f1\":f1,\"f2\":f2,\"f3\":-f3,\"t\":random_target}\n",
    "#     df.append(new_entry, ignore_index=True)\n",
    "    df.loc[len(df)]=new_entry\n",
    "\n",
    "    \n",
    "df.to_csv('init_1.csv', index=False)"
   ]
  },
  {
   "cell_type": "code",
   "execution_count": 30,
   "id": "973ebf51",
   "metadata": {},
   "outputs": [
    {
     "data": {
      "text/html": [
       "<div>\n",
       "<style scoped>\n",
       "    .dataframe tbody tr th:only-of-type {\n",
       "        vertical-align: middle;\n",
       "    }\n",
       "\n",
       "    .dataframe tbody tr th {\n",
       "        vertical-align: top;\n",
       "    }\n",
       "\n",
       "    .dataframe thead th {\n",
       "        text-align: right;\n",
       "    }\n",
       "</style>\n",
       "<table border=\"1\" class=\"dataframe\">\n",
       "  <thead>\n",
       "    <tr style=\"text-align: right;\">\n",
       "      <th></th>\n",
       "      <th>f1</th>\n",
       "      <th>f2</th>\n",
       "      <th>f3</th>\n",
       "      <th>t</th>\n",
       "    </tr>\n",
       "  </thead>\n",
       "  <tbody>\n",
       "    <tr>\n",
       "      <th>0</th>\n",
       "      <td>475</td>\n",
       "      <td>7403</td>\n",
       "      <td>-7889</td>\n",
       "      <td>11</td>\n",
       "    </tr>\n",
       "    <tr>\n",
       "      <th>1</th>\n",
       "      <td>346</td>\n",
       "      <td>4840</td>\n",
       "      <td>-5196</td>\n",
       "      <td>10</td>\n",
       "    </tr>\n",
       "    <tr>\n",
       "      <th>2</th>\n",
       "      <td>723</td>\n",
       "      <td>1194</td>\n",
       "      <td>-1928</td>\n",
       "      <td>11</td>\n",
       "    </tr>\n",
       "    <tr>\n",
       "      <th>3</th>\n",
       "      <td>903</td>\n",
       "      <td>2467</td>\n",
       "      <td>-3380</td>\n",
       "      <td>10</td>\n",
       "    </tr>\n",
       "    <tr>\n",
       "      <th>4</th>\n",
       "      <td>840</td>\n",
       "      <td>4600</td>\n",
       "      <td>-5451</td>\n",
       "      <td>11</td>\n",
       "    </tr>\n",
       "  </tbody>\n",
       "</table>\n",
       "</div>"
      ],
      "text/plain": [
       "    f1    f2    f3   t\n",
       "0  475  7403 -7889  11\n",
       "1  346  4840 -5196  10\n",
       "2  723  1194 -1928  11\n",
       "3  903  2467 -3380  10\n",
       "4  840  4600 -5451  11"
      ]
     },
     "execution_count": 30,
     "metadata": {},
     "output_type": "execute_result"
    }
   ],
   "source": [
    "df.head()\n",
    "# df.shape"
   ]
  },
  {
   "cell_type": "code",
   "execution_count": 29,
   "id": "e5213b8a",
   "metadata": {},
   "outputs": [
    {
     "name": "stdout",
     "output_type": "stream",
     "text": [
      "       f1    f2    f3\n",
      "0     475  7403 -7889\n",
      "1     346  4840 -5196\n",
      "2     723  1194 -1928\n",
      "3     903  2467 -3380\n",
      "4     840  4600 -5451\n",
      "...   ...   ...   ...\n",
      "2989  187  7566 -7764\n",
      "2990   90  6020 -6120\n",
      "2991  891  2344 -3246\n",
      "2992  152  8586 -8748\n",
      "2993  580  1960 -2551\n",
      "\n",
      "[2994 rows x 3 columns]\n",
      "0       11\n",
      "1       10\n",
      "2       11\n",
      "3       10\n",
      "4       11\n",
      "        ..\n",
      "2989    11\n",
      "2990    10\n",
      "2991    11\n",
      "2992    10\n",
      "2993    11\n",
      "Name: t, Length: 2994, dtype: int64\n"
     ]
    }
   ],
   "source": [
    "X = df.drop('t',axis=1)\n",
    "y = df['t']\n",
    "print(X)\n",
    "print(y)"
   ]
  },
  {
   "cell_type": "code",
   "execution_count": 31,
   "id": "8750c695",
   "metadata": {},
   "outputs": [],
   "source": [
    "from sklearn.model_selection import train_test_split\n",
    "from sklearn.metrics import accuracy_score,classification_report,confusion_matrix\n",
    "import matplotlib.pyplot as plt\n",
    "import seaborn as sns\n",
    "from sklearn.ensemble import RandomForestClassifier"
   ]
  },
  {
   "cell_type": "code",
   "execution_count": 32,
   "id": "9052b090",
   "metadata": {},
   "outputs": [],
   "source": [
    "X_train,X_test,y_train,y_test = train_test_split(X,y,test_size=0.3,random_state=42\n",
    "                                                )"
   ]
  },
  {
   "cell_type": "code",
   "execution_count": 37,
   "id": "cc9ba56f",
   "metadata": {},
   "outputs": [
    {
     "name": "stdout",
     "output_type": "stream",
     "text": [
      "(899,)\n"
     ]
    }
   ],
   "source": [
    "print(y_test.shape)"
   ]
  },
  {
   "cell_type": "code",
   "execution_count": 34,
   "id": "f0b34689",
   "metadata": {},
   "outputs": [
    {
     "data": {
      "text/html": [
       "<style>#sk-container-id-2 {color: black;}#sk-container-id-2 pre{padding: 0;}#sk-container-id-2 div.sk-toggleable {background-color: white;}#sk-container-id-2 label.sk-toggleable__label {cursor: pointer;display: block;width: 100%;margin-bottom: 0;padding: 0.3em;box-sizing: border-box;text-align: center;}#sk-container-id-2 label.sk-toggleable__label-arrow:before {content: \"▸\";float: left;margin-right: 0.25em;color: #696969;}#sk-container-id-2 label.sk-toggleable__label-arrow:hover:before {color: black;}#sk-container-id-2 div.sk-estimator:hover label.sk-toggleable__label-arrow:before {color: black;}#sk-container-id-2 div.sk-toggleable__content {max-height: 0;max-width: 0;overflow: hidden;text-align: left;background-color: #f0f8ff;}#sk-container-id-2 div.sk-toggleable__content pre {margin: 0.2em;color: black;border-radius: 0.25em;background-color: #f0f8ff;}#sk-container-id-2 input.sk-toggleable__control:checked~div.sk-toggleable__content {max-height: 200px;max-width: 100%;overflow: auto;}#sk-container-id-2 input.sk-toggleable__control:checked~label.sk-toggleable__label-arrow:before {content: \"▾\";}#sk-container-id-2 div.sk-estimator input.sk-toggleable__control:checked~label.sk-toggleable__label {background-color: #d4ebff;}#sk-container-id-2 div.sk-label input.sk-toggleable__control:checked~label.sk-toggleable__label {background-color: #d4ebff;}#sk-container-id-2 input.sk-hidden--visually {border: 0;clip: rect(1px 1px 1px 1px);clip: rect(1px, 1px, 1px, 1px);height: 1px;margin: -1px;overflow: hidden;padding: 0;position: absolute;width: 1px;}#sk-container-id-2 div.sk-estimator {font-family: monospace;background-color: #f0f8ff;border: 1px dotted black;border-radius: 0.25em;box-sizing: border-box;margin-bottom: 0.5em;}#sk-container-id-2 div.sk-estimator:hover {background-color: #d4ebff;}#sk-container-id-2 div.sk-parallel-item::after {content: \"\";width: 100%;border-bottom: 1px solid gray;flex-grow: 1;}#sk-container-id-2 div.sk-label:hover label.sk-toggleable__label {background-color: #d4ebff;}#sk-container-id-2 div.sk-serial::before {content: \"\";position: absolute;border-left: 1px solid gray;box-sizing: border-box;top: 0;bottom: 0;left: 50%;z-index: 0;}#sk-container-id-2 div.sk-serial {display: flex;flex-direction: column;align-items: center;background-color: white;padding-right: 0.2em;padding-left: 0.2em;position: relative;}#sk-container-id-2 div.sk-item {position: relative;z-index: 1;}#sk-container-id-2 div.sk-parallel {display: flex;align-items: stretch;justify-content: center;background-color: white;position: relative;}#sk-container-id-2 div.sk-item::before, #sk-container-id-2 div.sk-parallel-item::before {content: \"\";position: absolute;border-left: 1px solid gray;box-sizing: border-box;top: 0;bottom: 0;left: 50%;z-index: -1;}#sk-container-id-2 div.sk-parallel-item {display: flex;flex-direction: column;z-index: 1;position: relative;background-color: white;}#sk-container-id-2 div.sk-parallel-item:first-child::after {align-self: flex-end;width: 50%;}#sk-container-id-2 div.sk-parallel-item:last-child::after {align-self: flex-start;width: 50%;}#sk-container-id-2 div.sk-parallel-item:only-child::after {width: 0;}#sk-container-id-2 div.sk-dashed-wrapped {border: 1px dashed gray;margin: 0 0.4em 0.5em 0.4em;box-sizing: border-box;padding-bottom: 0.4em;background-color: white;}#sk-container-id-2 div.sk-label label {font-family: monospace;font-weight: bold;display: inline-block;line-height: 1.2em;}#sk-container-id-2 div.sk-label-container {text-align: center;}#sk-container-id-2 div.sk-container {/* jupyter's `normalize.less` sets `[hidden] { display: none; }` but bootstrap.min.css set `[hidden] { display: none !important; }` so we also need the `!important` here to be able to override the default hidden behavior on the sphinx rendered scikit-learn.org. See: https://github.com/scikit-learn/scikit-learn/issues/21755 */display: inline-block !important;position: relative;}#sk-container-id-2 div.sk-text-repr-fallback {display: none;}</style><div id=\"sk-container-id-2\" class=\"sk-top-container\"><div class=\"sk-text-repr-fallback\"><pre>RandomForestClassifier(random_state=42)</pre><b>In a Jupyter environment, please rerun this cell to show the HTML representation or trust the notebook. <br />On GitHub, the HTML representation is unable to render, please try loading this page with nbviewer.org.</b></div><div class=\"sk-container\" hidden><div class=\"sk-item\"><div class=\"sk-estimator sk-toggleable\"><input class=\"sk-toggleable__control sk-hidden--visually\" id=\"sk-estimator-id-2\" type=\"checkbox\" checked><label for=\"sk-estimator-id-2\" class=\"sk-toggleable__label sk-toggleable__label-arrow\">RandomForestClassifier</label><div class=\"sk-toggleable__content\"><pre>RandomForestClassifier(random_state=42)</pre></div></div></div></div></div>"
      ],
      "text/plain": [
       "RandomForestClassifier(random_state=42)"
      ]
     },
     "execution_count": 34,
     "metadata": {},
     "output_type": "execute_result"
    }
   ],
   "source": [
    "model = RandomForestClassifier(random_state=42)\n",
    "model.fit(X_train,y_train)"
   ]
  },
  {
   "cell_type": "code",
   "execution_count": 35,
   "id": "35d58a35",
   "metadata": {},
   "outputs": [
    {
     "name": "stdout",
     "output_type": "stream",
     "text": [
      "real 2366    10\n",
      "1088    10\n",
      "321     10\n",
      "1037    10\n",
      "1503    11\n",
      "        ..\n",
      "1747    11\n",
      "858     10\n",
      "2019    10\n",
      "48      10\n",
      "719     11\n",
      "Name: t, Length: 899, dtype: int64\n",
      "pred [10 10 11 11 11 11 11 11 11 10 10 10 10 10 11 11 11 10 10 10 11 10 10 11\n",
      " 10 10 11 10 10 10 11 11 11 11 10 10 11 10 11 11 10 11 10 10 10 11 11 11\n",
      " 11 10 11 11 11 10 10 11 11 10 10 10 11 11 11 10 10 10 10 11 11 11 11 11\n",
      " 10 10 10 10 10 10 10 11 11 10 11 10 10 11 11 10 10 10 11 10 10 10 10 11\n",
      " 11 10 10 11 11 10 11 10 10 10 11 10 10 10 11 11 10 10 11 11 10 10 11 10\n",
      " 11 10 11 10 10 10 11 11 11 10 10 10 11 10 10 11 11 10 10 11 11 11 11 10\n",
      " 11 10 11 11 11 10 11 11 11 11 10 10 11 10 11 10 11 10 11 11 11 10 11 11\n",
      " 10 10 11 11 10 10 10 10 10 10 11 10 11 10 10 11 10 10 10 10 10 10 10 10\n",
      " 10 10 10 10 10 10 10 10 11 11 11 11 10 11 11 10 11 10 10 11 10 11 10 10\n",
      " 11 11 11 11 10 11 10 11 11 10 10 10 10 10 11 11 11 11 11 10 10 11 11 11\n",
      " 10 11 10 10 11 11 10 11 10 10 10 11 11 11 10 10 11 10 10 10 10 10 11 11\n",
      " 10 11 11 11 11 11 11 11 10 10 10 10 11 10 11 11 10 10 10 10 10 10 11 10\n",
      " 10 11 11 10 10 10 11 11 11 11 11 11 11 11 10 11 10 10 11 11 11 11 10 10\n",
      " 11 10 10 10 11 10 11 11 10 10 11 10 11 11 11 11 11 10 10 11 11 11 10 11\n",
      " 10 10 10 11 10 11 11 11 11 10 11 11 11 11 11 11 10 11 11 11 10 10 10 10\n",
      " 11 11 10 11 10 11 10 10 11 10 11 10 10 11 10 11 11 11 11 10 11 10 10 10\n",
      " 11 11 11 11 10 10 10 10 11 11 10 10 11 10 10 10 11 11 11 10 11 11 11 11\n",
      " 10 10 11 11 11 11 11 11 11 10 11 10 10 10 10 10 11 11 11 11 10 11 10 10\n",
      " 11 11 11 11 11 11 11 10 11 10 11 11 11 11 11 10 10 10 10 11 11 10 10 10\n",
      " 11 11 11 11 11 11 11 10 11 11 10 11 10 10 10 10 11 10 10 10 10 11 10 10\n",
      " 10 10 11 11 11 10 10 10 11 10 11 11 11 10 11 10 10 10 10 10 10 10 11 10\n",
      " 10 11 10 10 10 10 11 11 10 11 10 10 11 10 11 11 10 10 10 11 10 10 10 10\n",
      " 11 10 10 10 10 10 10 11 10 11 11 11 10 10 11 10 10 11 10 10 11 11 10 11\n",
      " 11 10 10 10 11 10 10 11 11 10 10 11 10 10 11 10 10 11 10 11 10 10 11 10\n",
      " 10 11 10 10 11 10 11 10 11 11 10 11 11 10 11 10 11 11 10 11 11 11 11 10\n",
      " 11 11 10 11 11 10 10 10 10 10 11 10 11 11 10 11 10 11 11 10 11 11 10 11\n",
      " 11 10 10 11 10 10 11 10 11 10 11 11 10 11 10 10 11 10 10 10 11 11 10 11\n",
      " 11 10 10 10 10 10 11 10 11 11 11 10 10 11 11 11 10 11 10 10 10 10 10 11\n",
      " 11 10 10 11 11 11 11 10 10 11 10 11 10 10 10 10 11 11 10 11 10 11 11 10\n",
      " 10 10 10 11 10 11 10 10 10 11 10 11 11 10 10 11 11 10 10 10 10 10 10 10\n",
      " 11 11 10 10 11 10 10 11 10 10 10 10 10 11 10 11 10 11 10 11 10 11 11 11\n",
      " 10 10 11 10 10 10 11 11 10 11 11 11 10 11 10 11 11 10 11 10 11 10 10 10\n",
      " 10 10 10 10 10 11 11 10 10 11 11 10 10 10 10 11 11 11 10 10 11 11 10 11\n",
      " 11 10 10 11 11 10 10 11 10 10 11 11 10 11 11 11 10 10 11 11 10 11 11 11\n",
      " 11 10 10 10 11 11 11 11 10 10 10 10 10 11 10 10 11 10 11 10 11 11 11 10\n",
      " 10 11 10 10 11 11 10 10 10 10 10 10 10 11 10 11 10 11 11 11 11 10 10 11\n",
      " 11 10 10 11 11 10 10 11 10 10 10 11 10 10 10 10 11 10 11 11 11 10 10 10\n",
      " 10 11 10 10 10 10 11 11 11 10 10]\n"
     ]
    }
   ],
   "source": [
    "y_pred = model.predict(X_test)\n",
    "print(\"real\",y_test)\n",
    "print(\"pred\",y_pred)"
   ]
  },
  {
   "cell_type": "code",
   "execution_count": 38,
   "id": "dd2bb7c1",
   "metadata": {},
   "outputs": [
    {
     "name": "stdout",
     "output_type": "stream",
     "text": [
      "0.5038932146829811\n"
     ]
    }
   ],
   "source": [
    "accuracy = accuracy_score(y_test,y_pred)\n",
    "print(accuracy)"
   ]
  },
  {
   "cell_type": "code",
   "execution_count": 39,
   "id": "1dcff00f",
   "metadata": {},
   "outputs": [],
   "source": [
    "cm =confusion_matrix(y_test,y_pred)"
   ]
  },
  {
   "cell_type": "code",
   "execution_count": 14,
   "id": "c4b80ac4",
   "metadata": {},
   "outputs": [
    {
     "data": {
      "image/png": "[encoded data removed]",
      "text/plain": [
       "<Figure size 800x600 with 2 Axes>"
      ]
     },
     "metadata": {},
     "output_type": "display_data"
    }
   ],
   "source": [
    "plt.figure(figsize=(8,6))\n",
    "sns.heatmap(cm,annot=True,fmt='d',cmap=\"Blues\",xticklabels=model.classes_,yticklabels=model.classes_)\n",
    "plt.title(\"Cm\")\n",
    "plt.xlabel(\"Predicted\")\n",
    "plt.ylabel(\"Actual\")\n",
    "plt.show()"
   ]
  },
  {
   "cell_type": "code",
   "execution_count": 15,
   "id": "929c69f0",
   "metadata": {},
   "outputs": [
    {
     "ename": "KeyError",
     "evalue": "\"None of [Index(['X_train', 'species', 'y_train'], dtype='object')] are in the [columns]\"",
     "output_type": "error",
     "traceback": [
      "\u001b[0;31m---------------------------------------------------------------------------\u001b[0m",
      "\u001b[0;31mKeyError\u001b[0m                                  Traceback (most recent call last)",
      "Cell \u001b[0;32mIn[15], line 1\u001b[0m\n\u001b[0;32m----> 1\u001b[0m t \u001b[38;5;241m=\u001b[39m sns\u001b[38;5;241m.\u001b[39mlmplot(data\u001b[38;5;241m=\u001b[39mdf,x\u001b[38;5;241m=\u001b[39m\u001b[38;5;124m\"\u001b[39m\u001b[38;5;124mX_train\u001b[39m\u001b[38;5;124m\"\u001b[39m,y\u001b[38;5;241m=\u001b[39m\u001b[38;5;124m\"\u001b[39m\u001b[38;5;124my_train\u001b[39m\u001b[38;5;124m\"\u001b[39m,hue\u001b[38;5;241m=\u001b[39m\u001b[38;5;124m\"\u001b[39m\u001b[38;5;124mspecies\u001b[39m\u001b[38;5;124m\"\u001b[39m,height\u001b[38;5;241m=\u001b[39m\u001b[38;5;241m5\u001b[39m)\n",
      "File \u001b[0;32m~/anaconda3/lib/python3.11/site-packages/seaborn/regression.py:595\u001b[0m, in \u001b[0;36mlmplot\u001b[0;34m(data, x, y, hue, col, row, palette, col_wrap, height, aspect, markers, sharex, sharey, hue_order, col_order, row_order, legend, legend_out, x_estimator, x_bins, x_ci, scatter, fit_reg, ci, n_boot, units, seed, order, logistic, lowess, robust, logx, x_partial, y_partial, truncate, x_jitter, y_jitter, scatter_kws, line_kws, facet_kws)\u001b[0m\n\u001b[1;32m    593\u001b[0m need_cols \u001b[38;5;241m=\u001b[39m [x, y, hue, col, row, units, x_partial, y_partial]\n\u001b[1;32m    594\u001b[0m cols \u001b[38;5;241m=\u001b[39m np\u001b[38;5;241m.\u001b[39munique([a \u001b[38;5;28;01mfor\u001b[39;00m a \u001b[38;5;129;01min\u001b[39;00m need_cols \u001b[38;5;28;01mif\u001b[39;00m a \u001b[38;5;129;01mis\u001b[39;00m \u001b[38;5;129;01mnot\u001b[39;00m \u001b[38;5;28;01mNone\u001b[39;00m])\u001b[38;5;241m.\u001b[39mtolist()\n\u001b[0;32m--> 595\u001b[0m data \u001b[38;5;241m=\u001b[39m data[cols]\n\u001b[1;32m    597\u001b[0m \u001b[38;5;66;03m# Initialize the grid\u001b[39;00m\n\u001b[1;32m    598\u001b[0m facets \u001b[38;5;241m=\u001b[39m FacetGrid(\n\u001b[1;32m    599\u001b[0m     data, row\u001b[38;5;241m=\u001b[39mrow, col\u001b[38;5;241m=\u001b[39mcol, hue\u001b[38;5;241m=\u001b[39mhue,\n\u001b[1;32m    600\u001b[0m     palette\u001b[38;5;241m=\u001b[39mpalette,\n\u001b[0;32m   (...)\u001b[0m\n\u001b[1;32m    603\u001b[0m     \u001b[38;5;241m*\u001b[39m\u001b[38;5;241m*\u001b[39mfacet_kws,\n\u001b[1;32m    604\u001b[0m )\n",
      "File \u001b[0;32m~/anaconda3/lib/python3.11/site-packages/pandas/core/frame.py:3767\u001b[0m, in \u001b[0;36mDataFrame.__getitem__\u001b[0;34m(self, key)\u001b[0m\n\u001b[1;32m   3765\u001b[0m     \u001b[38;5;28;01mif\u001b[39;00m is_iterator(key):\n\u001b[1;32m   3766\u001b[0m         key \u001b[38;5;241m=\u001b[39m \u001b[38;5;28mlist\u001b[39m(key)\n\u001b[0;32m-> 3767\u001b[0m     indexer \u001b[38;5;241m=\u001b[39m \u001b[38;5;28mself\u001b[39m\u001b[38;5;241m.\u001b[39mcolumns\u001b[38;5;241m.\u001b[39m_get_indexer_strict(key, \u001b[38;5;124m\"\u001b[39m\u001b[38;5;124mcolumns\u001b[39m\u001b[38;5;124m\"\u001b[39m)[\u001b[38;5;241m1\u001b[39m]\n\u001b[1;32m   3769\u001b[0m \u001b[38;5;66;03m# take() does not accept boolean indexers\u001b[39;00m\n\u001b[1;32m   3770\u001b[0m \u001b[38;5;28;01mif\u001b[39;00m \u001b[38;5;28mgetattr\u001b[39m(indexer, \u001b[38;5;124m\"\u001b[39m\u001b[38;5;124mdtype\u001b[39m\u001b[38;5;124m\"\u001b[39m, \u001b[38;5;28;01mNone\u001b[39;00m) \u001b[38;5;241m==\u001b[39m \u001b[38;5;28mbool\u001b[39m:\n",
      "File \u001b[0;32m~/anaconda3/lib/python3.11/site-packages/pandas/core/indexes/base.py:5877\u001b[0m, in \u001b[0;36mIndex._get_indexer_strict\u001b[0;34m(self, key, axis_name)\u001b[0m\n\u001b[1;32m   5874\u001b[0m \u001b[38;5;28;01melse\u001b[39;00m:\n\u001b[1;32m   5875\u001b[0m     keyarr, indexer, new_indexer \u001b[38;5;241m=\u001b[39m \u001b[38;5;28mself\u001b[39m\u001b[38;5;241m.\u001b[39m_reindex_non_unique(keyarr)\n\u001b[0;32m-> 5877\u001b[0m \u001b[38;5;28mself\u001b[39m\u001b[38;5;241m.\u001b[39m_raise_if_missing(keyarr, indexer, axis_name)\n\u001b[1;32m   5879\u001b[0m keyarr \u001b[38;5;241m=\u001b[39m \u001b[38;5;28mself\u001b[39m\u001b[38;5;241m.\u001b[39mtake(indexer)\n\u001b[1;32m   5880\u001b[0m \u001b[38;5;28;01mif\u001b[39;00m \u001b[38;5;28misinstance\u001b[39m(key, Index):\n\u001b[1;32m   5881\u001b[0m     \u001b[38;5;66;03m# GH 42790 - Preserve name from an Index\u001b[39;00m\n",
      "File \u001b[0;32m~/anaconda3/lib/python3.11/site-packages/pandas/core/indexes/base.py:5938\u001b[0m, in \u001b[0;36mIndex._raise_if_missing\u001b[0;34m(self, key, indexer, axis_name)\u001b[0m\n\u001b[1;32m   5936\u001b[0m     \u001b[38;5;28;01mif\u001b[39;00m use_interval_msg:\n\u001b[1;32m   5937\u001b[0m         key \u001b[38;5;241m=\u001b[39m \u001b[38;5;28mlist\u001b[39m(key)\n\u001b[0;32m-> 5938\u001b[0m     \u001b[38;5;28;01mraise\u001b[39;00m \u001b[38;5;167;01mKeyError\u001b[39;00m(\u001b[38;5;124mf\u001b[39m\u001b[38;5;124m\"\u001b[39m\u001b[38;5;124mNone of [\u001b[39m\u001b[38;5;132;01m{\u001b[39;00mkey\u001b[38;5;132;01m}\u001b[39;00m\u001b[38;5;124m] are in the [\u001b[39m\u001b[38;5;132;01m{\u001b[39;00maxis_name\u001b[38;5;132;01m}\u001b[39;00m\u001b[38;5;124m]\u001b[39m\u001b[38;5;124m\"\u001b[39m)\n\u001b[1;32m   5940\u001b[0m not_found \u001b[38;5;241m=\u001b[39m \u001b[38;5;28mlist\u001b[39m(ensure_index(key)[missing_mask\u001b[38;5;241m.\u001b[39mnonzero()[\u001b[38;5;241m0\u001b[39m]]\u001b[38;5;241m.\u001b[39munique())\n\u001b[1;32m   5941\u001b[0m \u001b[38;5;28;01mraise\u001b[39;00m \u001b[38;5;167;01mKeyError\u001b[39;00m(\u001b[38;5;124mf\u001b[39m\u001b[38;5;124m\"\u001b[39m\u001b[38;5;132;01m{\u001b[39;00mnot_found\u001b[38;5;132;01m}\u001b[39;00m\u001b[38;5;124m not in index\u001b[39m\u001b[38;5;124m\"\u001b[39m)\n",
      "\u001b[0;31mKeyError\u001b[0m: \"None of [Index(['X_train', 'species', 'y_train'], dtype='object')] are in the [columns]\""
     ]
    }
   ],
   "source": [
    "t = sns.lmplot(data=df,x=\"X_train\",y=\"y_train\",hue=\"species\",height=5)\n",
    "# t.set_axis_labels(\"abc x\",\"abc y\")"
   ]
  },
  {
   "cell_type": "markdown",
   "id": "7f27b4e2",
   "metadata": {},
   "source": [
    "# LinearRegression"
   ]
  },
  {
   "cell_type": "code",
   "execution_count": 40,
   "id": "3a8648eb",
   "metadata": {},
   "outputs": [],
   "source": [
    "from sklearn.linear_model import LinearRegression\n",
    "from sklearn.metrics import mean_squared_error"
   ]
  },
  {
   "cell_type": "markdown",
   "id": "67b94d80",
   "metadata": {},
   "source": []
  },
  {
   "cell_type": "code",
   "execution_count": 41,
   "id": "22a29533",
   "metadata": {},
   "outputs": [
    {
     "data": {
      "text/html": [
       "<style>#sk-container-id-3 {color: black;}#sk-container-id-3 pre{padding: 0;}#sk-container-id-3 div.sk-toggleable {background-color: white;}#sk-container-id-3 label.sk-toggleable__label {cursor: pointer;display: block;width: 100%;margin-bottom: 0;padding: 0.3em;box-sizing: border-box;text-align: center;}#sk-container-id-3 label.sk-toggleable__label-arrow:before {content: \"▸\";float: left;margin-right: 0.25em;color: #696969;}#sk-container-id-3 label.sk-toggleable__label-arrow:hover:before {color: black;}#sk-container-id-3 div.sk-estimator:hover label.sk-toggleable__label-arrow:before {color: black;}#sk-container-id-3 div.sk-toggleable__content {max-height: 0;max-width: 0;overflow: hidden;text-align: left;background-color: #f0f8ff;}#sk-container-id-3 div.sk-toggleable__content pre {margin: 0.2em;color: black;border-radius: 0.25em;background-color: #f0f8ff;}#sk-container-id-3 input.sk-toggleable__control:checked~div.sk-toggleable__content {max-height: 200px;max-width: 100%;overflow: auto;}#sk-container-id-3 input.sk-toggleable__control:checked~label.sk-toggleable__label-arrow:before {content: \"▾\";}#sk-container-id-3 div.sk-estimator input.sk-toggleable__control:checked~label.sk-toggleable__label {background-color: #d4ebff;}#sk-container-id-3 div.sk-label input.sk-toggleable__control:checked~label.sk-toggleable__label {background-color: #d4ebff;}#sk-container-id-3 input.sk-hidden--visually {border: 0;clip: rect(1px 1px 1px 1px);clip: rect(1px, 1px, 1px, 1px);height: 1px;margin: -1px;overflow: hidden;padding: 0;position: absolute;width: 1px;}#sk-container-id-3 div.sk-estimator {font-family: monospace;background-color: #f0f8ff;border: 1px dotted black;border-radius: 0.25em;box-sizing: border-box;margin-bottom: 0.5em;}#sk-container-id-3 div.sk-estimator:hover {background-color: #d4ebff;}#sk-container-id-3 div.sk-parallel-item::after {content: \"\";width: 100%;border-bottom: 1px solid gray;flex-grow: 1;}#sk-container-id-3 div.sk-label:hover label.sk-toggleable__label {background-color: #d4ebff;}#sk-container-id-3 div.sk-serial::before {content: \"\";position: absolute;border-left: 1px solid gray;box-sizing: border-box;top: 0;bottom: 0;left: 50%;z-index: 0;}#sk-container-id-3 div.sk-serial {display: flex;flex-direction: column;align-items: center;background-color: white;padding-right: 0.2em;padding-left: 0.2em;position: relative;}#sk-container-id-3 div.sk-item {position: relative;z-index: 1;}#sk-container-id-3 div.sk-parallel {display: flex;align-items: stretch;justify-content: center;background-color: white;position: relative;}#sk-container-id-3 div.sk-item::before, #sk-container-id-3 div.sk-parallel-item::before {content: \"\";position: absolute;border-left: 1px solid gray;box-sizing: border-box;top: 0;bottom: 0;left: 50%;z-index: -1;}#sk-container-id-3 div.sk-parallel-item {display: flex;flex-direction: column;z-index: 1;position: relative;background-color: white;}#sk-container-id-3 div.sk-parallel-item:first-child::after {align-self: flex-end;width: 50%;}#sk-container-id-3 div.sk-parallel-item:last-child::after {align-self: flex-start;width: 50%;}#sk-container-id-3 div.sk-parallel-item:only-child::after {width: 0;}#sk-container-id-3 div.sk-dashed-wrapped {border: 1px dashed gray;margin: 0 0.4em 0.5em 0.4em;box-sizing: border-box;padding-bottom: 0.4em;background-color: white;}#sk-container-id-3 div.sk-label label {font-family: monospace;font-weight: bold;display: inline-block;line-height: 1.2em;}#sk-container-id-3 div.sk-label-container {text-align: center;}#sk-container-id-3 div.sk-container {/* jupyter's `normalize.less` sets `[hidden] { display: none; }` but bootstrap.min.css set `[hidden] { display: none !important; }` so we also need the `!important` here to be able to override the default hidden behavior on the sphinx rendered scikit-learn.org. See: https://github.com/scikit-learn/scikit-learn/issues/21755 */display: inline-block !important;position: relative;}#sk-container-id-3 div.sk-text-repr-fallback {display: none;}</style><div id=\"sk-container-id-3\" class=\"sk-top-container\"><div class=\"sk-text-repr-fallback\"><pre>LinearRegression()</pre><b>In a Jupyter environment, please rerun this cell to show the HTML representation or trust the notebook. <br />On GitHub, the HTML representation is unable to render, please try loading this page with nbviewer.org.</b></div><div class=\"sk-container\" hidden><div class=\"sk-item\"><div class=\"sk-estimator sk-toggleable\"><input class=\"sk-toggleable__control sk-hidden--visually\" id=\"sk-estimator-id-3\" type=\"checkbox\" checked><label for=\"sk-estimator-id-3\" class=\"sk-toggleable__label sk-toggleable__label-arrow\">LinearRegression</label><div class=\"sk-toggleable__content\"><pre>LinearRegression()</pre></div></div></div></div></div>"
      ],
      "text/plain": [
       "LinearRegression()"
      ]
     },
     "execution_count": 41,
     "metadata": {},
     "output_type": "execute_result"
    }
   ],
   "source": [
    "model2 = LinearRegression()\n",
    "model2.fit(X_train,y_train)"
   ]
  },
  {
   "cell_type": "code",
   "execution_count": 42,
   "id": "5c257b47",
   "metadata": {},
   "outputs": [
    {
     "name": "stdout",
     "output_type": "stream",
     "text": [
      "[10 10 11 11 11 11 11 11 11 10 10 10 10 10 11 11 11 10 10 10 11 10 10 11\n",
      " 10 10 11 10 10 10 11 11 11 11 10 10 11 10 11 11 10 11 10 10 10 11 11 11\n",
      " 11 10 11 11 11 10 10 11 11 10 10 10 11 11 11 10 10 10 10 11 11 11 11 11\n",
      " 10 10 10 10 10 10 10 11 11 10 11 10 10 11 11 10 10 10 11 10 10 10 10 11\n",
      " 11 10 10 11 11 10 11 10 10 10 11 10 10 10 11 11 10 10 11 11 10 10 11 10\n",
      " 11 10 11 10 10 10 11 11 11 10 10 10 11 10 10 11 11 10 10 11 11 11 11 10\n",
      " 11 10 11 11 11 10 11 11 11 11 10 10 11 10 11 10 11 10 11 11 11 10 11 11\n",
      " 10 10 11 11 10 10 10 10 10 10 11 10 11 10 10 11 10 10 10 10 10 10 10 10\n",
      " 10 10 10 10 10 10 10 10 11 11 11 11 10 11 11 10 11 10 10 11 10 11 10 10\n",
      " 11 11 11 11 10 11 10 11 11 10 10 10 10 10 11 11 11 11 11 10 10 11 11 11\n",
      " 10 11 10 10 11 11 10 11 10 10 10 11 11 11 10 10 11 10 10 10 10 10 11 11\n",
      " 10 11 11 11 11 11 11 11 10 10 10 10 11 10 11 11 10 10 10 10 10 10 11 10\n",
      " 10 11 11 10 10 10 11 11 11 11 11 11 11 11 10 11 10 10 11 11 11 11 10 10\n",
      " 11 10 10 10 11 10 11 11 10 10 11 10 11 11 11 11 11 10 10 11 11 11 10 11\n",
      " 10 10 10 11 10 11 11 11 11 10 11 11 11 11 11 11 10 11 11 11 10 10 10 10\n",
      " 11 11 10 11 10 11 10 10 11 10 11 10 10 11 10 11 11 11 11 10 11 10 10 10\n",
      " 11 11 11 11 10 10 10 10 11 11 10 10 11 10 10 10 11 11 11 10 11 11 11 11\n",
      " 10 10 11 11 11 11 11 11 11 10 11 10 10 10 10 10 11 11 11 11 10 11 10 10\n",
      " 11 11 11 11 11 11 11 10 11 10 11 11 11 11 11 10 10 10 10 11 11 10 10 10\n",
      " 11 11 11 11 11 11 11 10 11 11 10 11 10 10 10 10 11 10 10 10 10 11 10 10\n",
      " 10 10 11 11 11 10 10 10 11 10 11 11 11 10 11 10 10 10 10 10 10 10 11 10\n",
      " 10 11 10 10 10 10 11 11 10 11 10 10 11 10 11 11 10 10 10 11 10 10 10 10\n",
      " 11 10 10 10 10 10 10 11 10 11 11 11 10 10 11 10 10 11 10 10 11 11 10 11\n",
      " 11 10 10 10 11 10 10 11 11 10 10 11 10 10 11 10 10 11 10 11 10 10 11 10\n",
      " 10 11 10 10 11 10 11 10 11 11 10 11 11 10 11 10 11 11 10 11 11 11 11 10\n",
      " 11 11 10 11 11 10 10 10 10 10 11 10 11 11 10 11 10 11 11 10 11 11 10 11\n",
      " 11 10 10 11 10 10 11 10 11 10 11 11 10 11 10 10 11 10 10 10 11 11 10 11\n",
      " 11 10 10 10 10 10 11 10 11 11 11 10 10 11 11 11 10 11 10 10 10 10 10 11\n",
      " 11 10 10 11 11 11 11 10 10 11 10 11 10 10 10 10 11 11 10 11 10 11 11 10\n",
      " 10 10 10 11 10 11 10 10 10 11 10 11 11 10 10 11 11 10 10 10 10 10 10 10\n",
      " 11 11 10 10 11 10 10 11 10 10 10 10 10 11 10 11 10 11 10 11 10 11 11 11\n",
      " 10 10 11 10 10 10 11 11 10 11 11 11 10 11 10 11 11 10 11 10 11 10 10 10\n",
      " 10 10 10 10 10 11 11 10 10 11 11 10 10 10 10 11 11 11 10 10 11 11 10 11\n",
      " 11 10 10 11 11 10 10 11 10 10 11 11 10 11 11 11 10 10 11 11 10 11 11 11\n",
      " 11 10 10 10 11 11 11 11 10 10 10 10 10 11 10 10 11 10 11 10 11 11 11 10\n",
      " 10 11 10 10 11 11 10 10 10 10 10 10 10 11 10 11 10 11 11 11 11 10 10 11\n",
      " 11 10 10 11 11 10 10 11 10 10 10 11 10 10 10 10 11 10 11 11 11 10 10 10\n",
      " 10 11 10 10 10 10 11 11 11 10 10]\n"
     ]
    }
   ],
   "source": [
    "li_pred = model.predict(X_test)\n",
    "print(li_pred)"
   ]
  },
  {
   "cell_type": "code",
   "execution_count": 43,
   "id": "76a60648",
   "metadata": {},
   "outputs": [
    {
     "name": "stdout",
     "output_type": "stream",
     "text": [
      "0.4961067853170189\n"
     ]
    }
   ],
   "source": [
    "mse = mean_squared_error(y_test,li_pred)\n",
    "print(mse)"
   ]
  }
 ],
 "metadata": {
  "kernelspec": {
   "display_name": "Python 3 (ipykernel)",
   "language": "python",
   "name": "python3"
  },
  "language_info": {
   "codemirror_mode": {
    "name": "ipython",
    "version": 3
   },
   "file_extension": ".py",
   "mimetype": "text/x-python",
   "name": "python",
   "nbconvert_exporter": "python",
   "pygments_lexer": "ipython3",
   "version": "3.11.5"
  }
 },
 "nbformat": 4,
 "nbformat_minor": 5
}
